{
 "cells": [
  {
   "attachments": {},
   "cell_type": "markdown",
   "metadata": {},
   "source": [
    "## Platzi excercices: Variance and standard deviation\n",
    "### class 8, inferential statistics"
   ]
  },
  {
   "cell_type": "code",
   "execution_count": 1,
   "metadata": {},
   "outputs": [],
   "source": [
    "import pandas as pd\n",
    "import numpy as np\n",
    "import matplotlib.pyplot as plt"
   ]
  },
  {
   "attachments": {},
   "cell_type": "markdown",
   "metadata": {},
   "source": [
    "again, I'll practice excercises and git at the same time"
   ]
  },
  {
   "cell_type": "code",
   "execution_count": 3,
   "metadata": {},
   "outputs": [],
   "source": [
    "poblacion_1 = pd.Series([7,10,12,13,16,9,8,12,8,6,16,23,11,17,20,21,\n",
    "25,30,31,33,37,39,27,36,40,43,41,45])"
   ]
  },
  {
   "attachments": {},
   "cell_type": "markdown",
   "metadata": {},
   "source": [
    "Awesome! An AI solve this problem for me. I am aware that we are evolving to a new era with the **artificial inteligent**, if I can use this tool to solve my coding problems, do I need to know all the programming language?"
   ]
  },
  {
   "cell_type": "code",
   "execution_count": 7,
   "metadata": {},
   "outputs": [
    {
     "ename": "AttributeError",
     "evalue": "module 'numpy' has no attribute 'mode'",
     "output_type": "error",
     "traceback": [
      "\u001b[0;31m---------------------------------------------------------------------------\u001b[0m",
      "\u001b[0;31mAttributeError\u001b[0m                            Traceback (most recent call last)",
      "Cell \u001b[0;32mIn[7], line 3\u001b[0m\n\u001b[1;32m      1\u001b[0m \u001b[39m# Calcular la media, moda y mediana de la serie de números\u001b[39;00m\n\u001b[1;32m      2\u001b[0m media \u001b[39m=\u001b[39m np\u001b[39m.\u001b[39mmean(poblacion_1)\n\u001b[0;32m----> 3\u001b[0m moda \u001b[39m=\u001b[39m np\u001b[39m.\u001b[39;49mmode(poblacion_1)\n\u001b[1;32m      4\u001b[0m mediana \u001b[39m=\u001b[39m np\u001b[39m.\u001b[39mmedian(poblacion_1)\n\u001b[1;32m      6\u001b[0m \u001b[39m# Imprimir los resultados\u001b[39;00m\n",
      "File \u001b[0;32m~/miniconda3/envs/ML/lib/python3.11/site-packages/numpy/__init__.py:320\u001b[0m, in \u001b[0;36m__getattr__\u001b[0;34m(attr)\u001b[0m\n\u001b[1;32m    317\u001b[0m     \u001b[39mfrom\u001b[39;00m \u001b[39m.\u001b[39;00m\u001b[39mtesting\u001b[39;00m \u001b[39mimport\u001b[39;00m Tester\n\u001b[1;32m    318\u001b[0m     \u001b[39mreturn\u001b[39;00m Tester\n\u001b[0;32m--> 320\u001b[0m \u001b[39mraise\u001b[39;00m \u001b[39mAttributeError\u001b[39;00m(\u001b[39m\"\u001b[39m\u001b[39mmodule \u001b[39m\u001b[39m{!r}\u001b[39;00m\u001b[39m has no attribute \u001b[39m\u001b[39m\"\u001b[39m\n\u001b[1;32m    321\u001b[0m                      \u001b[39m\"\u001b[39m\u001b[39m{!r}\u001b[39;00m\u001b[39m\"\u001b[39m\u001b[39m.\u001b[39mformat(\u001b[39m__name__\u001b[39m, attr))\n",
      "\u001b[0;31mAttributeError\u001b[0m: module 'numpy' has no attribute 'mode'"
     ]
    }
   ],
   "source": [
    "# Calcular la media, moda y mediana de la serie de números\n",
    "media = np.mean(poblacion_1)\n",
    "moda = np.mode(poblacion_1)\n",
    "mediana = np.median(poblacion_1)\n",
    "\n",
    "# Imprimir los resultados\n",
    "print(\"Serie de números :\\n\", poblacion_1)\n",
    "print(\"Media:\", media)\n",
    "print(\"Moda:\", moda)\n",
    "print(\"Mediana:\", mediana)"
   ]
  },
  {
   "attachments": {},
   "cell_type": "markdown",
   "metadata": {},
   "source": [
    "I told to ChatGPT that numpy has no attribute 'mode', and it corrected me the code:"
   ]
  },
  {
   "cell_type": "code",
   "execution_count": 8,
   "metadata": {},
   "outputs": [
    {
     "name": "stdout",
     "output_type": "stream",
     "text": [
      "Serie de números aleatorios:\n",
      " 0    4\n",
      "1    2\n",
      "2    6\n",
      "3    8\n",
      "4    9\n",
      "5    4\n",
      "6    5\n",
      "7    6\n",
      "8    1\n",
      "9    5\n",
      "dtype: int64\n",
      "Media: 5.0\n",
      "Moda: 4\n",
      "Mediana: 5.0\n"
     ]
    }
   ],
   "source": [
    "import numpy as np\n",
    "import pandas as pd\n",
    "from statistics import mode\n",
    "\n",
    "# Crear una serie de números aleatorios de tamaño 10\n",
    "serie_numeros = pd.Series(np.random.randint(low=1, high=10, size=10))\n",
    "\n",
    "# Calcular la media, moda y mediana de la serie de números\n",
    "media = np.mean(serie_numeros)\n",
    "moda = mode(serie_numeros)\n",
    "mediana = np.median(serie_numeros)\n",
    "\n",
    "# Imprimir los resultados\n",
    "print(\"Serie de números aleatorios:\\n\", serie_numeros)\n",
    "print(\"Media:\", media)\n",
    "print(\"Moda:\", moda)\n",
    "print(\"Mediana:\", mediana)"
   ]
  },
  {
   "cell_type": "code",
   "execution_count": null,
   "metadata": {},
   "outputs": [],
   "source": [
    "''' Really, Am I still need all the basics in Python and their libraries?'''\n",
    "# I'm gonna solve the next excersice in a few minuts"
   ]
  }
 ],
 "metadata": {
  "kernelspec": {
   "display_name": "ML",
   "language": "python",
   "name": "python3"
  },
  "language_info": {
   "codemirror_mode": {
    "name": "ipython",
    "version": 3
   },
   "file_extension": ".py",
   "mimetype": "text/x-python",
   "name": "python",
   "nbconvert_exporter": "python",
   "pygments_lexer": "ipython3",
   "version": "3.11.0"
  },
  "orig_nbformat": 4,
  "vscode": {
   "interpreter": {
    "hash": "013996f4590695308fe873e73ccfad17b6da13415dc74e9458db8bd8258c00bb"
   }
  }
 },
 "nbformat": 4,
 "nbformat_minor": 2
}
